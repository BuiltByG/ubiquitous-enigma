{
 "cells": [
  {
   "cell_type": "markdown",
   "id": "865713b4",
   "metadata": {},
   "source": [
    "A reasonable expectation for the Card(Poker):\n",
    "-Datafields to store the value and suit\n",
    "-Setting the values of the datafields in the constructor\n",
    "-accessors for the datafields\n",
    "-a method name displayCard that returns either a textual or graphic representation of the class."
   ]
  },
  {
   "cell_type": "markdown",
   "id": "21bc58f5",
   "metadata": {},
   "source": [
    "A reasonable expectation for Deck(Poker):\n",
    "-a datafield to hold all 52 cards(i.e. card objects)\n",
    "-a method to create a random deck of cards(i.e. shuffled cards)\n",
    "-a method to reset the deck i.e. create fresh random 52 card\n",
    "-a method to return a card off of the current deck and remove it from the deck\n",
    "-a method to print all the cards in the current deck"
   ]
  },
  {
   "cell_type": "code",
   "execution_count": 1,
   "id": "4d15f561",
   "metadata": {},
   "outputs": [],
   "source": [
    "import random"
   ]
  },
  {
   "cell_type": "code",
   "execution_count": null,
   "id": "04cac340",
   "metadata": {},
   "outputs": [],
   "source": [
    "# FakeDeck = cards()\n",
    "# FakeDeck.getCards()\n",
    "# DefaultDeck = tuple(FakeDeck)\n",
    "#\n",
    "# \n",
    "DefaultDeck = ('AH', '2H', '3H', '4H', '5H', 'AC', '2C', '3C', '4C', '5C', 'AD', '2D', '3D', '4D', '5D', 'AS', 'A2', 'A3', 'A4', 'A5')\n",
    "FakeDeck = ['AH', '2H', '3H', '4H', '5H', 'AC', '2C', '3C', '4C', '5C', 'AD', '2D', '3D', '4D', '5D', 'AS', 'A2', 'A3', 'A4', 'A5']\n"
   ]
  },
  {
   "cell_type": "code",
   "execution_count": null,
   "id": "9f3ed595",
   "metadata": {},
   "outputs": [],
   "source": [
    "class deck:\n",
    "    def __init__(self):\n",
    "        self.__deck = list(DefaultDeck)\n",
    "        self.__top = [-1]\n",
    "        self.__size = len(FakeDeck)\n",
    "\n",
    "    def resetDeck(self):\n",
    "        self.__deck = list(DefaultDeck)\n",
    "\n",
    "    def shuffle(self):\n",
    "        random.shuffle(self.__deck)\n",
    "\n",
    "    def popDeck(self):\n",
    "        popCard = self.__deck[-1]\n",
    "        self.__deck.pop(-1)\n",
    "        return popCard\n",
    "\n",
    "\n",
    "    def printCards(self):\n",
    "        print(f'{self.__deck}')\n"
   ]
  },
  {
   "cell_type": "code",
   "execution_count": 111,
   "id": "cc0ddfbf",
   "metadata": {},
   "outputs": [
    {
     "name": "stdout",
     "output_type": "stream",
     "text": [
      "['AH', '2H', '3H', '4H', '5H', 'AC', '2C', '3C', '4C', '5C', 'AD', '2D', '3D', '4D', '5D', 'AS', 'A2', 'A3', 'A4', 'A5']\n",
      "['A2', 'AC', '4H', 'AS', '5D', 'A3', '3D', '2C', 'A5', '3H', '3C', '5C', '4C', 'A4', '2D', '2H', 'AD', '4D', '5H', 'AH']\n",
      "['A2', 'AC', '4H', 'AS', '5D', 'A3', '3D', '2C', 'A5', '3H', '3C', '5C', '4C', 'A4', '2D', '2H', 'AD', '4D', '5H']\n",
      "['A4', '4D', '3D', '5H', '5C', '3C', '2H', '4C', '5D', '3H', 'AC', '4H', 'A2', 'A3', '2C', 'AD', '2D', 'AS']\n",
      "['AH', '2H', '3H', '4H', '5H', 'AC', '2C', '3C', '4C', '5C', 'AD', '2D', '3D', '4D', '5D', 'AS', 'A2', 'A3', 'A4', 'A5']\n"
     ]
    }
   ],
   "source": [
    "test = deck()\n",
    "test.printCards()\n",
    "test.shuffle()\n",
    "test.printCards()\n",
    "test.popDeck()\n",
    "test.printCards()\n",
    "test.shuffle()\n",
    "test.popDeck()\n",
    "test.printCards()\n",
    "test.popDeck()\n",
    "test.resetDeck()\n",
    "test.printCards()\n"
   ]
  },
  {
   "cell_type": "code",
   "execution_count": 89,
   "id": "514879e4",
   "metadata": {},
   "outputs": [
    {
     "name": "stdout",
     "output_type": "stream",
     "text": [
      "['AH', '2H', '3H', '4H', '5H', 'AC', '2C', '3C', '4C', '5C', 'AD', '2D', '3D', '4D', '5D', 'AS', 'A2', 'A3', 'A4', 'A5']\n",
      "['AH', '3H', '4D', 'A4', '5C', 'A5', 'AD', '3C', 'AC', '4H', '3D', '5D', '4C', '2C']\n"
     ]
    }
   ],
   "source": [
    "test.resetDeck()\n",
    "test.printCards()\n",
    "print(FakeDeck)"
   ]
  }
 ],
 "metadata": {
  "kernelspec": {
   "display_name": "base",
   "language": "python",
   "name": "python3"
  },
  "language_info": {
   "codemirror_mode": {
    "name": "ipython",
    "version": 3
   },
   "file_extension": ".py",
   "mimetype": "text/x-python",
   "name": "python",
   "nbconvert_exporter": "python",
   "pygments_lexer": "ipython3",
   "version": "3.13.5"
  }
 },
 "nbformat": 4,
 "nbformat_minor": 5
}
